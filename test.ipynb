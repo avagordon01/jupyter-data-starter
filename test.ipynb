{
 "cells": [
  {
   "cell_type": "code",
   "execution_count": 1,
   "id": "eb3860b1",
   "metadata": {},
   "outputs": [
    {
     "data": {
      "text/plain": [
       "['penguins']"
      ]
     },
     "execution_count": 1,
     "metadata": {},
     "output_type": "execute_result"
    }
   ],
   "source": [
    "import ibis\n",
    "con = ibis.connect(\"postgres:///testdb\")\n",
    "ibis.options.interactive = True\n",
    "t = con.create_table(\n",
    "    \"penguins\", ibis.examples.penguins.fetch().to_pyarrow(), overwrite=True\n",
    ")\n",
    "# t = ibis.read_parquet(\n",
    "#     \"s3://gbif-open-data-us-east-1/occurrence/2023-04-01/occurrence.parquet/000000\"\n",
    "# )\n",
    "con.list_tables()"
   ]
  },
  {
   "cell_type": "code",
   "execution_count": 2,
   "id": "d8e6effd",
   "metadata": {},
   "outputs": [
    {
     "data": {
      "text/html": [
       "<pre style=\"white-space:pre;overflow-x:auto;line-height:normal;font-family:Menlo,'DejaVu Sans Mono',consolas,'Courier New',monospace\">┏━━━━━━━━━━━━━━━━━━━┳━━━━━━━┳━━━━━━━━━┳━━━━━━━┳━━━━━━━┳━━━━━━━━┳━━━━━━━━┳━━━━━━━━━━━━━┳━━━━━━━━━━━━┳━━━━━━━━━┳━━━━━━━━━━┳━━━━━━━━━┳━━━━━━━━━━┳━━━━━━━━━┓\n",
       "┃<span style=\"font-weight: bold\"> name              </span>┃<span style=\"font-weight: bold\"> pos   </span>┃<span style=\"font-weight: bold\"> type    </span>┃<span style=\"font-weight: bold\"> count </span>┃<span style=\"font-weight: bold\"> nulls </span>┃<span style=\"font-weight: bold\"> unique </span>┃<span style=\"font-weight: bold\"> mode   </span>┃<span style=\"font-weight: bold\"> mean        </span>┃<span style=\"font-weight: bold\"> std        </span>┃<span style=\"font-weight: bold\"> min     </span>┃<span style=\"font-weight: bold\"> p25      </span>┃<span style=\"font-weight: bold\"> p50     </span>┃<span style=\"font-weight: bold\"> p75      </span>┃<span style=\"font-weight: bold\"> max     </span>┃\n",
       "┡━━━━━━━━━━━━━━━━━━━╇━━━━━━━╇━━━━━━━━━╇━━━━━━━╇━━━━━━━╇━━━━━━━━╇━━━━━━━━╇━━━━━━━━━━━━━╇━━━━━━━━━━━━╇━━━━━━━━━╇━━━━━━━━━━╇━━━━━━━━━╇━━━━━━━━━━╇━━━━━━━━━┩\n",
       "│ <span style=\"color: #7f7f7f; text-decoration-color: #7f7f7f\">string</span>            │ <span style=\"color: #7f7f7f; text-decoration-color: #7f7f7f\">int16</span> │ <span style=\"color: #7f7f7f; text-decoration-color: #7f7f7f\">string</span>  │ <span style=\"color: #7f7f7f; text-decoration-color: #7f7f7f\">int64</span> │ <span style=\"color: #7f7f7f; text-decoration-color: #7f7f7f\">int64</span> │ <span style=\"color: #7f7f7f; text-decoration-color: #7f7f7f\">int64</span>  │ <span style=\"color: #7f7f7f; text-decoration-color: #7f7f7f\">string</span> │ <span style=\"color: #7f7f7f; text-decoration-color: #7f7f7f\">float64</span>     │ <span style=\"color: #7f7f7f; text-decoration-color: #7f7f7f\">float64</span>    │ <span style=\"color: #7f7f7f; text-decoration-color: #7f7f7f\">float64</span> │ <span style=\"color: #7f7f7f; text-decoration-color: #7f7f7f\">float64</span>  │ <span style=\"color: #7f7f7f; text-decoration-color: #7f7f7f\">float64</span> │ <span style=\"color: #7f7f7f; text-decoration-color: #7f7f7f\">float64</span>  │ <span style=\"color: #7f7f7f; text-decoration-color: #7f7f7f\">float64</span> │\n",
       "├───────────────────┼───────┼─────────┼───────┼───────┼────────┼────────┼─────────────┼────────────┼─────────┼──────────┼─────────┼──────────┼─────────┤\n",
       "│ <span style=\"color: #008000; text-decoration-color: #008000\">species          </span> │     <span style=\"color: #008080; text-decoration-color: #008080; font-weight: bold\">0</span> │ <span style=\"color: #008000; text-decoration-color: #008000\">string </span> │   <span style=\"color: #008080; text-decoration-color: #008080; font-weight: bold\">344</span> │     <span style=\"color: #008080; text-decoration-color: #008080; font-weight: bold\">0</span> │      <span style=\"color: #008080; text-decoration-color: #008080; font-weight: bold\">3</span> │ <span style=\"color: #008000; text-decoration-color: #008000\">Adelie</span> │        <span style=\"color: #7f7f7f; text-decoration-color: #7f7f7f\">NULL</span> │       <span style=\"color: #7f7f7f; text-decoration-color: #7f7f7f\">NULL</span> │    <span style=\"color: #7f7f7f; text-decoration-color: #7f7f7f\">NULL</span> │     <span style=\"color: #7f7f7f; text-decoration-color: #7f7f7f\">NULL</span> │    <span style=\"color: #7f7f7f; text-decoration-color: #7f7f7f\">NULL</span> │     <span style=\"color: #7f7f7f; text-decoration-color: #7f7f7f\">NULL</span> │    <span style=\"color: #7f7f7f; text-decoration-color: #7f7f7f\">NULL</span> │\n",
       "│ <span style=\"color: #008000; text-decoration-color: #008000\">island           </span> │     <span style=\"color: #008080; text-decoration-color: #008080; font-weight: bold\">1</span> │ <span style=\"color: #008000; text-decoration-color: #008000\">string </span> │   <span style=\"color: #008080; text-decoration-color: #008080; font-weight: bold\">344</span> │     <span style=\"color: #008080; text-decoration-color: #008080; font-weight: bold\">0</span> │      <span style=\"color: #008080; text-decoration-color: #008080; font-weight: bold\">3</span> │ <span style=\"color: #008000; text-decoration-color: #008000\">Biscoe</span> │        <span style=\"color: #7f7f7f; text-decoration-color: #7f7f7f\">NULL</span> │       <span style=\"color: #7f7f7f; text-decoration-color: #7f7f7f\">NULL</span> │    <span style=\"color: #7f7f7f; text-decoration-color: #7f7f7f\">NULL</span> │     <span style=\"color: #7f7f7f; text-decoration-color: #7f7f7f\">NULL</span> │    <span style=\"color: #7f7f7f; text-decoration-color: #7f7f7f\">NULL</span> │     <span style=\"color: #7f7f7f; text-decoration-color: #7f7f7f\">NULL</span> │    <span style=\"color: #7f7f7f; text-decoration-color: #7f7f7f\">NULL</span> │\n",
       "│ <span style=\"color: #008000; text-decoration-color: #008000\">bill_length_mm   </span> │     <span style=\"color: #008080; text-decoration-color: #008080; font-weight: bold\">2</span> │ <span style=\"color: #008000; text-decoration-color: #008000\">float64</span> │   <span style=\"color: #008080; text-decoration-color: #008080; font-weight: bold\">344</span> │     <span style=\"color: #008080; text-decoration-color: #008080; font-weight: bold\">0</span> │    <span style=\"color: #008080; text-decoration-color: #008080; font-weight: bold\">165</span> │ <span style=\"color: #7f7f7f; text-decoration-color: #7f7f7f\">NULL</span>   │        <span style=\"color: #7f7f7f; text-decoration-color: #7f7f7f\">NULL</span> │       <span style=\"color: #7f7f7f; text-decoration-color: #7f7f7f\">NULL</span> │    <span style=\"color: #008080; text-decoration-color: #008080; font-weight: bold\">32.1</span> │   <span style=\"color: #008080; text-decoration-color: #008080; font-weight: bold\">39.275</span> │    <span style=\"color: #008080; text-decoration-color: #008080; font-weight: bold\">44.5</span> │   <span style=\"color: #008080; text-decoration-color: #008080; font-weight: bold\">48.525</span> │    <span style=\"color: #7f7f7f; text-decoration-color: #7f7f7f\">NULL</span> │\n",
       "│ <span style=\"color: #008000; text-decoration-color: #008000\">bill_depth_mm    </span> │     <span style=\"color: #008080; text-decoration-color: #008080; font-weight: bold\">3</span> │ <span style=\"color: #008000; text-decoration-color: #008000\">float64</span> │   <span style=\"color: #008080; text-decoration-color: #008080; font-weight: bold\">344</span> │     <span style=\"color: #008080; text-decoration-color: #008080; font-weight: bold\">0</span> │     <span style=\"color: #008080; text-decoration-color: #008080; font-weight: bold\">81</span> │ <span style=\"color: #7f7f7f; text-decoration-color: #7f7f7f\">NULL</span>   │        <span style=\"color: #7f7f7f; text-decoration-color: #7f7f7f\">NULL</span> │       <span style=\"color: #7f7f7f; text-decoration-color: #7f7f7f\">NULL</span> │    <span style=\"color: #008080; text-decoration-color: #008080; font-weight: bold\">13.1</span> │   <span style=\"color: #008080; text-decoration-color: #008080; font-weight: bold\">15.600</span> │    <span style=\"color: #008080; text-decoration-color: #008080; font-weight: bold\">17.3</span> │   <span style=\"color: #008080; text-decoration-color: #008080; font-weight: bold\">18.700</span> │    <span style=\"color: #7f7f7f; text-decoration-color: #7f7f7f\">NULL</span> │\n",
       "│ <span style=\"color: #008000; text-decoration-color: #008000\">flipper_length_mm</span> │     <span style=\"color: #008080; text-decoration-color: #008080; font-weight: bold\">4</span> │ <span style=\"color: #008000; text-decoration-color: #008000\">int64  </span> │   <span style=\"color: #008080; text-decoration-color: #008080; font-weight: bold\">344</span> │     <span style=\"color: #008080; text-decoration-color: #008080; font-weight: bold\">2</span> │     <span style=\"color: #008080; text-decoration-color: #008080; font-weight: bold\">55</span> │ <span style=\"color: #7f7f7f; text-decoration-color: #7f7f7f\">NULL</span>   │  <span style=\"color: #008080; text-decoration-color: #008080; font-weight: bold\">200.915205</span> │  <span style=\"color: #008080; text-decoration-color: #008080; font-weight: bold\">14.061714</span> │   <span style=\"color: #008080; text-decoration-color: #008080; font-weight: bold\">172.0</span> │  <span style=\"color: #008080; text-decoration-color: #008080; font-weight: bold\">190.000</span> │   <span style=\"color: #008080; text-decoration-color: #008080; font-weight: bold\">197.0</span> │  <span style=\"color: #008080; text-decoration-color: #008080; font-weight: bold\">213.000</span> │   <span style=\"color: #008080; text-decoration-color: #008080; font-weight: bold\">231.0</span> │\n",
       "│ <span style=\"color: #008000; text-decoration-color: #008000\">body_mass_g      </span> │     <span style=\"color: #008080; text-decoration-color: #008080; font-weight: bold\">5</span> │ <span style=\"color: #008000; text-decoration-color: #008000\">int64  </span> │   <span style=\"color: #008080; text-decoration-color: #008080; font-weight: bold\">344</span> │     <span style=\"color: #008080; text-decoration-color: #008080; font-weight: bold\">2</span> │     <span style=\"color: #008080; text-decoration-color: #008080; font-weight: bold\">94</span> │ <span style=\"color: #7f7f7f; text-decoration-color: #7f7f7f\">NULL</span>   │ <span style=\"color: #008080; text-decoration-color: #008080; font-weight: bold\">4201.754386</span> │ <span style=\"color: #008080; text-decoration-color: #008080; font-weight: bold\">801.954536</span> │  <span style=\"color: #008080; text-decoration-color: #008080; font-weight: bold\">2700.0</span> │ <span style=\"color: #008080; text-decoration-color: #008080; font-weight: bold\">3550.000</span> │  <span style=\"color: #008080; text-decoration-color: #008080; font-weight: bold\">4050.0</span> │ <span style=\"color: #008080; text-decoration-color: #008080; font-weight: bold\">4750.000</span> │  <span style=\"color: #008080; text-decoration-color: #008080; font-weight: bold\">6300.0</span> │\n",
       "│ <span style=\"color: #008000; text-decoration-color: #008000\">sex              </span> │     <span style=\"color: #008080; text-decoration-color: #008080; font-weight: bold\">6</span> │ <span style=\"color: #008000; text-decoration-color: #008000\">string </span> │   <span style=\"color: #008080; text-decoration-color: #008080; font-weight: bold\">344</span> │    <span style=\"color: #008080; text-decoration-color: #008080; font-weight: bold\">11</span> │      <span style=\"color: #008080; text-decoration-color: #008080; font-weight: bold\">2</span> │ <span style=\"color: #008000; text-decoration-color: #008000\">male  </span> │        <span style=\"color: #7f7f7f; text-decoration-color: #7f7f7f\">NULL</span> │       <span style=\"color: #7f7f7f; text-decoration-color: #7f7f7f\">NULL</span> │    <span style=\"color: #7f7f7f; text-decoration-color: #7f7f7f\">NULL</span> │     <span style=\"color: #7f7f7f; text-decoration-color: #7f7f7f\">NULL</span> │    <span style=\"color: #7f7f7f; text-decoration-color: #7f7f7f\">NULL</span> │     <span style=\"color: #7f7f7f; text-decoration-color: #7f7f7f\">NULL</span> │    <span style=\"color: #7f7f7f; text-decoration-color: #7f7f7f\">NULL</span> │\n",
       "│ <span style=\"color: #008000; text-decoration-color: #008000\">year             </span> │     <span style=\"color: #008080; text-decoration-color: #008080; font-weight: bold\">7</span> │ <span style=\"color: #008000; text-decoration-color: #008000\">int64  </span> │   <span style=\"color: #008080; text-decoration-color: #008080; font-weight: bold\">344</span> │     <span style=\"color: #008080; text-decoration-color: #008080; font-weight: bold\">0</span> │      <span style=\"color: #008080; text-decoration-color: #008080; font-weight: bold\">3</span> │ <span style=\"color: #7f7f7f; text-decoration-color: #7f7f7f\">NULL</span>   │ <span style=\"color: #008080; text-decoration-color: #008080; font-weight: bold\">2008.029070</span> │   <span style=\"color: #008080; text-decoration-color: #008080; font-weight: bold\">0.818356</span> │  <span style=\"color: #008080; text-decoration-color: #008080; font-weight: bold\">2007.0</span> │ <span style=\"color: #008080; text-decoration-color: #008080; font-weight: bold\">2007.000</span> │  <span style=\"color: #008080; text-decoration-color: #008080; font-weight: bold\">2008.0</span> │ <span style=\"color: #008080; text-decoration-color: #008080; font-weight: bold\">2009.000</span> │  <span style=\"color: #008080; text-decoration-color: #008080; font-weight: bold\">2009.0</span> │\n",
       "└───────────────────┴───────┴─────────┴───────┴───────┴────────┴────────┴─────────────┴────────────┴─────────┴──────────┴─────────┴──────────┴─────────┘\n",
       "</pre>\n"
      ],
      "text/plain": [
       "┏━━━━━━━━━━━━━━━━━━━┳━━━━━━━┳━━━━━━━━━┳━━━━━━━┳━━━━━━━┳━━━━━━━━┳━━━━━━━━┳━━━━━━━━━━━━━┳━━━━━━━━━━━━┳━━━━━━━━━┳━━━━━━━━━━┳━━━━━━━━━┳━━━━━━━━━━┳━━━━━━━━━┓\n",
       "┃\u001b[1m \u001b[0m\u001b[1mname\u001b[0m\u001b[1m             \u001b[0m\u001b[1m \u001b[0m┃\u001b[1m \u001b[0m\u001b[1mpos\u001b[0m\u001b[1m  \u001b[0m\u001b[1m \u001b[0m┃\u001b[1m \u001b[0m\u001b[1mtype\u001b[0m\u001b[1m   \u001b[0m\u001b[1m \u001b[0m┃\u001b[1m \u001b[0m\u001b[1mcount\u001b[0m\u001b[1m \u001b[0m┃\u001b[1m \u001b[0m\u001b[1mnulls\u001b[0m\u001b[1m \u001b[0m┃\u001b[1m \u001b[0m\u001b[1munique\u001b[0m\u001b[1m \u001b[0m┃\u001b[1m \u001b[0m\u001b[1mmode\u001b[0m\u001b[1m  \u001b[0m\u001b[1m \u001b[0m┃\u001b[1m \u001b[0m\u001b[1mmean\u001b[0m\u001b[1m       \u001b[0m\u001b[1m \u001b[0m┃\u001b[1m \u001b[0m\u001b[1mstd\u001b[0m\u001b[1m       \u001b[0m\u001b[1m \u001b[0m┃\u001b[1m \u001b[0m\u001b[1mmin\u001b[0m\u001b[1m    \u001b[0m\u001b[1m \u001b[0m┃\u001b[1m \u001b[0m\u001b[1mp25\u001b[0m\u001b[1m     \u001b[0m\u001b[1m \u001b[0m┃\u001b[1m \u001b[0m\u001b[1mp50\u001b[0m\u001b[1m    \u001b[0m\u001b[1m \u001b[0m┃\u001b[1m \u001b[0m\u001b[1mp75\u001b[0m\u001b[1m     \u001b[0m\u001b[1m \u001b[0m┃\u001b[1m \u001b[0m\u001b[1mmax\u001b[0m\u001b[1m    \u001b[0m\u001b[1m \u001b[0m┃\n",
       "┡━━━━━━━━━━━━━━━━━━━╇━━━━━━━╇━━━━━━━━━╇━━━━━━━╇━━━━━━━╇━━━━━━━━╇━━━━━━━━╇━━━━━━━━━━━━━╇━━━━━━━━━━━━╇━━━━━━━━━╇━━━━━━━━━━╇━━━━━━━━━╇━━━━━━━━━━╇━━━━━━━━━┩\n",
       "│ \u001b[2mstring\u001b[0m            │ \u001b[2mint16\u001b[0m │ \u001b[2mstring\u001b[0m  │ \u001b[2mint64\u001b[0m │ \u001b[2mint64\u001b[0m │ \u001b[2mint64\u001b[0m  │ \u001b[2mstring\u001b[0m │ \u001b[2mfloat64\u001b[0m     │ \u001b[2mfloat64\u001b[0m    │ \u001b[2mfloat64\u001b[0m │ \u001b[2mfloat64\u001b[0m  │ \u001b[2mfloat64\u001b[0m │ \u001b[2mfloat64\u001b[0m  │ \u001b[2mfloat64\u001b[0m │\n",
       "├───────────────────┼───────┼─────────┼───────┼───────┼────────┼────────┼─────────────┼────────────┼─────────┼──────────┼─────────┼──────────┼─────────┤\n",
       "│ \u001b[32mspecies          \u001b[0m │     \u001b[1;36m0\u001b[0m │ \u001b[32mstring \u001b[0m │   \u001b[1;36m344\u001b[0m │     \u001b[1;36m0\u001b[0m │      \u001b[1;36m3\u001b[0m │ \u001b[32mAdelie\u001b[0m │        \u001b[2mNULL\u001b[0m │       \u001b[2mNULL\u001b[0m │    \u001b[2mNULL\u001b[0m │     \u001b[2mNULL\u001b[0m │    \u001b[2mNULL\u001b[0m │     \u001b[2mNULL\u001b[0m │    \u001b[2mNULL\u001b[0m │\n",
       "│ \u001b[32misland           \u001b[0m │     \u001b[1;36m1\u001b[0m │ \u001b[32mstring \u001b[0m │   \u001b[1;36m344\u001b[0m │     \u001b[1;36m0\u001b[0m │      \u001b[1;36m3\u001b[0m │ \u001b[32mBiscoe\u001b[0m │        \u001b[2mNULL\u001b[0m │       \u001b[2mNULL\u001b[0m │    \u001b[2mNULL\u001b[0m │     \u001b[2mNULL\u001b[0m │    \u001b[2mNULL\u001b[0m │     \u001b[2mNULL\u001b[0m │    \u001b[2mNULL\u001b[0m │\n",
       "│ \u001b[32mbill_length_mm   \u001b[0m │     \u001b[1;36m2\u001b[0m │ \u001b[32mfloat64\u001b[0m │   \u001b[1;36m344\u001b[0m │     \u001b[1;36m0\u001b[0m │    \u001b[1;36m165\u001b[0m │ \u001b[2mNULL\u001b[0m   │        \u001b[2mNULL\u001b[0m │       \u001b[2mNULL\u001b[0m │    \u001b[1;36m32.1\u001b[0m │   \u001b[1;36m39.275\u001b[0m │    \u001b[1;36m44.5\u001b[0m │   \u001b[1;36m48.525\u001b[0m │    \u001b[2mNULL\u001b[0m │\n",
       "│ \u001b[32mbill_depth_mm    \u001b[0m │     \u001b[1;36m3\u001b[0m │ \u001b[32mfloat64\u001b[0m │   \u001b[1;36m344\u001b[0m │     \u001b[1;36m0\u001b[0m │     \u001b[1;36m81\u001b[0m │ \u001b[2mNULL\u001b[0m   │        \u001b[2mNULL\u001b[0m │       \u001b[2mNULL\u001b[0m │    \u001b[1;36m13.1\u001b[0m │   \u001b[1;36m15.600\u001b[0m │    \u001b[1;36m17.3\u001b[0m │   \u001b[1;36m18.700\u001b[0m │    \u001b[2mNULL\u001b[0m │\n",
       "│ \u001b[32mflipper_length_mm\u001b[0m │     \u001b[1;36m4\u001b[0m │ \u001b[32mint64  \u001b[0m │   \u001b[1;36m344\u001b[0m │     \u001b[1;36m2\u001b[0m │     \u001b[1;36m55\u001b[0m │ \u001b[2mNULL\u001b[0m   │  \u001b[1;36m200.915205\u001b[0m │  \u001b[1;36m14.061714\u001b[0m │   \u001b[1;36m172.0\u001b[0m │  \u001b[1;36m190.000\u001b[0m │   \u001b[1;36m197.0\u001b[0m │  \u001b[1;36m213.000\u001b[0m │   \u001b[1;36m231.0\u001b[0m │\n",
       "│ \u001b[32mbody_mass_g      \u001b[0m │     \u001b[1;36m5\u001b[0m │ \u001b[32mint64  \u001b[0m │   \u001b[1;36m344\u001b[0m │     \u001b[1;36m2\u001b[0m │     \u001b[1;36m94\u001b[0m │ \u001b[2mNULL\u001b[0m   │ \u001b[1;36m4201.754386\u001b[0m │ \u001b[1;36m801.954536\u001b[0m │  \u001b[1;36m2700.0\u001b[0m │ \u001b[1;36m3550.000\u001b[0m │  \u001b[1;36m4050.0\u001b[0m │ \u001b[1;36m4750.000\u001b[0m │  \u001b[1;36m6300.0\u001b[0m │\n",
       "│ \u001b[32msex              \u001b[0m │     \u001b[1;36m6\u001b[0m │ \u001b[32mstring \u001b[0m │   \u001b[1;36m344\u001b[0m │    \u001b[1;36m11\u001b[0m │      \u001b[1;36m2\u001b[0m │ \u001b[32mmale  \u001b[0m │        \u001b[2mNULL\u001b[0m │       \u001b[2mNULL\u001b[0m │    \u001b[2mNULL\u001b[0m │     \u001b[2mNULL\u001b[0m │    \u001b[2mNULL\u001b[0m │     \u001b[2mNULL\u001b[0m │    \u001b[2mNULL\u001b[0m │\n",
       "│ \u001b[32myear             \u001b[0m │     \u001b[1;36m7\u001b[0m │ \u001b[32mint64  \u001b[0m │   \u001b[1;36m344\u001b[0m │     \u001b[1;36m0\u001b[0m │      \u001b[1;36m3\u001b[0m │ \u001b[2mNULL\u001b[0m   │ \u001b[1;36m2008.029070\u001b[0m │   \u001b[1;36m0.818356\u001b[0m │  \u001b[1;36m2007.0\u001b[0m │ \u001b[1;36m2007.000\u001b[0m │  \u001b[1;36m2008.0\u001b[0m │ \u001b[1;36m2009.000\u001b[0m │  \u001b[1;36m2009.0\u001b[0m │\n",
       "└───────────────────┴───────┴─────────┴───────┴───────┴────────┴────────┴─────────────┴────────────┴─────────┴──────────┴─────────┴──────────┴─────────┘"
      ]
     },
     "execution_count": 2,
     "metadata": {},
     "output_type": "execute_result"
    }
   ],
   "source": [
    "t.describe()"
   ]
  },
  {
   "cell_type": "code",
   "execution_count": 7,
   "id": "5146aa53",
   "metadata": {},
   "outputs": [
    {
     "data": {
      "text/html": [
       "<pre style=\"white-space:pre;overflow-x:auto;line-height:normal;font-family:Menlo,'DejaVu Sans Mono',consolas,'Courier New',monospace\">┏━━━━━━━━━┳━━━━━━━━━━━┳━━━━━━━━━━━━━━━━┳━━━━━━━━━━━━━━━┳━━━━━━━━━━━━━━━━━━━┳━━━━━━━━━━━━━┳━━━━━━━━┳━━━━━━━┓\n",
       "┃<span style=\"font-weight: bold\"> species </span>┃<span style=\"font-weight: bold\"> island    </span>┃<span style=\"font-weight: bold\"> bill_length_mm </span>┃<span style=\"font-weight: bold\"> bill_depth_mm </span>┃<span style=\"font-weight: bold\"> flipper_length_mm </span>┃<span style=\"font-weight: bold\"> body_mass_g </span>┃<span style=\"font-weight: bold\"> sex    </span>┃<span style=\"font-weight: bold\"> year  </span>┃\n",
       "┡━━━━━━━━━╇━━━━━━━━━━━╇━━━━━━━━━━━━━━━━╇━━━━━━━━━━━━━━━╇━━━━━━━━━━━━━━━━━━━╇━━━━━━━━━━━━━╇━━━━━━━━╇━━━━━━━┩\n",
       "│ <span style=\"color: #7f7f7f; text-decoration-color: #7f7f7f\">string</span>  │ <span style=\"color: #7f7f7f; text-decoration-color: #7f7f7f\">string</span>    │ <span style=\"color: #7f7f7f; text-decoration-color: #7f7f7f\">float64</span>        │ <span style=\"color: #7f7f7f; text-decoration-color: #7f7f7f\">float64</span>       │ <span style=\"color: #7f7f7f; text-decoration-color: #7f7f7f\">int64</span>             │ <span style=\"color: #7f7f7f; text-decoration-color: #7f7f7f\">int64</span>       │ <span style=\"color: #7f7f7f; text-decoration-color: #7f7f7f\">string</span> │ <span style=\"color: #7f7f7f; text-decoration-color: #7f7f7f\">int64</span> │\n",
       "├─────────┼───────────┼────────────────┼───────────────┼───────────────────┼─────────────┼────────┼───────┤\n",
       "│ <span style=\"color: #008000; text-decoration-color: #008000\">Adelie </span> │ <span style=\"color: #008000; text-decoration-color: #008000\">Torgersen</span> │           <span style=\"color: #008080; text-decoration-color: #008080; font-weight: bold\">39.1</span> │          <span style=\"color: #008080; text-decoration-color: #008080; font-weight: bold\">18.7</span> │               <span style=\"color: #008080; text-decoration-color: #008080; font-weight: bold\">181</span> │        <span style=\"color: #008080; text-decoration-color: #008080; font-weight: bold\">3750</span> │ <span style=\"color: #008000; text-decoration-color: #008000\">male  </span> │  <span style=\"color: #008080; text-decoration-color: #008080; font-weight: bold\">2007</span> │\n",
       "│ <span style=\"color: #008000; text-decoration-color: #008000\">Adelie </span> │ <span style=\"color: #008000; text-decoration-color: #008000\">Torgersen</span> │           <span style=\"color: #008080; text-decoration-color: #008080; font-weight: bold\">39.5</span> │          <span style=\"color: #008080; text-decoration-color: #008080; font-weight: bold\">17.4</span> │               <span style=\"color: #008080; text-decoration-color: #008080; font-weight: bold\">186</span> │        <span style=\"color: #008080; text-decoration-color: #008080; font-weight: bold\">3800</span> │ <span style=\"color: #008000; text-decoration-color: #008000\">female</span> │  <span style=\"color: #008080; text-decoration-color: #008080; font-weight: bold\">2007</span> │\n",
       "│ <span style=\"color: #008000; text-decoration-color: #008000\">Adelie </span> │ <span style=\"color: #008000; text-decoration-color: #008000\">Torgersen</span> │           <span style=\"color: #008080; text-decoration-color: #008080; font-weight: bold\">40.3</span> │          <span style=\"color: #008080; text-decoration-color: #008080; font-weight: bold\">18.0</span> │               <span style=\"color: #008080; text-decoration-color: #008080; font-weight: bold\">195</span> │        <span style=\"color: #008080; text-decoration-color: #008080; font-weight: bold\">3250</span> │ <span style=\"color: #008000; text-decoration-color: #008000\">female</span> │  <span style=\"color: #008080; text-decoration-color: #008080; font-weight: bold\">2007</span> │\n",
       "│ <span style=\"color: #008000; text-decoration-color: #008000\">Adelie </span> │ <span style=\"color: #008000; text-decoration-color: #008000\">Torgersen</span> │           <span style=\"color: #7f7f7f; text-decoration-color: #7f7f7f\">NULL</span> │          <span style=\"color: #7f7f7f; text-decoration-color: #7f7f7f\">NULL</span> │              <span style=\"color: #7f7f7f; text-decoration-color: #7f7f7f\">NULL</span> │        <span style=\"color: #7f7f7f; text-decoration-color: #7f7f7f\">NULL</span> │ <span style=\"color: #7f7f7f; text-decoration-color: #7f7f7f\">NULL</span>   │  <span style=\"color: #008080; text-decoration-color: #008080; font-weight: bold\">2007</span> │\n",
       "│ <span style=\"color: #008000; text-decoration-color: #008000\">Adelie </span> │ <span style=\"color: #008000; text-decoration-color: #008000\">Torgersen</span> │           <span style=\"color: #008080; text-decoration-color: #008080; font-weight: bold\">36.7</span> │          <span style=\"color: #008080; text-decoration-color: #008080; font-weight: bold\">19.3</span> │               <span style=\"color: #008080; text-decoration-color: #008080; font-weight: bold\">193</span> │        <span style=\"color: #008080; text-decoration-color: #008080; font-weight: bold\">3450</span> │ <span style=\"color: #008000; text-decoration-color: #008000\">female</span> │  <span style=\"color: #008080; text-decoration-color: #008080; font-weight: bold\">2007</span> │\n",
       "│ <span style=\"color: #008000; text-decoration-color: #008000\">Adelie </span> │ <span style=\"color: #008000; text-decoration-color: #008000\">Torgersen</span> │           <span style=\"color: #008080; text-decoration-color: #008080; font-weight: bold\">39.3</span> │          <span style=\"color: #008080; text-decoration-color: #008080; font-weight: bold\">20.6</span> │               <span style=\"color: #008080; text-decoration-color: #008080; font-weight: bold\">190</span> │        <span style=\"color: #008080; text-decoration-color: #008080; font-weight: bold\">3650</span> │ <span style=\"color: #008000; text-decoration-color: #008000\">male  </span> │  <span style=\"color: #008080; text-decoration-color: #008080; font-weight: bold\">2007</span> │\n",
       "│ <span style=\"color: #008000; text-decoration-color: #008000\">Adelie </span> │ <span style=\"color: #008000; text-decoration-color: #008000\">Torgersen</span> │           <span style=\"color: #008080; text-decoration-color: #008080; font-weight: bold\">38.9</span> │          <span style=\"color: #008080; text-decoration-color: #008080; font-weight: bold\">17.8</span> │               <span style=\"color: #008080; text-decoration-color: #008080; font-weight: bold\">181</span> │        <span style=\"color: #008080; text-decoration-color: #008080; font-weight: bold\">3625</span> │ <span style=\"color: #008000; text-decoration-color: #008000\">female</span> │  <span style=\"color: #008080; text-decoration-color: #008080; font-weight: bold\">2007</span> │\n",
       "│ <span style=\"color: #008000; text-decoration-color: #008000\">Adelie </span> │ <span style=\"color: #008000; text-decoration-color: #008000\">Torgersen</span> │           <span style=\"color: #008080; text-decoration-color: #008080; font-weight: bold\">39.2</span> │          <span style=\"color: #008080; text-decoration-color: #008080; font-weight: bold\">19.6</span> │               <span style=\"color: #008080; text-decoration-color: #008080; font-weight: bold\">195</span> │        <span style=\"color: #008080; text-decoration-color: #008080; font-weight: bold\">4675</span> │ <span style=\"color: #008000; text-decoration-color: #008000\">male  </span> │  <span style=\"color: #008080; text-decoration-color: #008080; font-weight: bold\">2007</span> │\n",
       "│ <span style=\"color: #008000; text-decoration-color: #008000\">Adelie </span> │ <span style=\"color: #008000; text-decoration-color: #008000\">Torgersen</span> │           <span style=\"color: #008080; text-decoration-color: #008080; font-weight: bold\">34.1</span> │          <span style=\"color: #008080; text-decoration-color: #008080; font-weight: bold\">18.1</span> │               <span style=\"color: #008080; text-decoration-color: #008080; font-weight: bold\">193</span> │        <span style=\"color: #008080; text-decoration-color: #008080; font-weight: bold\">3475</span> │ <span style=\"color: #7f7f7f; text-decoration-color: #7f7f7f\">NULL</span>   │  <span style=\"color: #008080; text-decoration-color: #008080; font-weight: bold\">2007</span> │\n",
       "│ <span style=\"color: #008000; text-decoration-color: #008000\">Adelie </span> │ <span style=\"color: #008000; text-decoration-color: #008000\">Torgersen</span> │           <span style=\"color: #008080; text-decoration-color: #008080; font-weight: bold\">42.0</span> │          <span style=\"color: #008080; text-decoration-color: #008080; font-weight: bold\">20.2</span> │               <span style=\"color: #008080; text-decoration-color: #008080; font-weight: bold\">190</span> │        <span style=\"color: #008080; text-decoration-color: #008080; font-weight: bold\">4250</span> │ <span style=\"color: #7f7f7f; text-decoration-color: #7f7f7f\">NULL</span>   │  <span style=\"color: #008080; text-decoration-color: #008080; font-weight: bold\">2007</span> │\n",
       "│ <span style=\"color: #7f7f7f; text-decoration-color: #7f7f7f\">…</span>       │ <span style=\"color: #7f7f7f; text-decoration-color: #7f7f7f\">…</span>         │              <span style=\"color: #7f7f7f; text-decoration-color: #7f7f7f\">…</span> │             <span style=\"color: #7f7f7f; text-decoration-color: #7f7f7f\">…</span> │                 <span style=\"color: #7f7f7f; text-decoration-color: #7f7f7f\">…</span> │           <span style=\"color: #7f7f7f; text-decoration-color: #7f7f7f\">…</span> │ <span style=\"color: #7f7f7f; text-decoration-color: #7f7f7f\">…</span>      │     <span style=\"color: #7f7f7f; text-decoration-color: #7f7f7f\">…</span> │\n",
       "└─────────┴───────────┴────────────────┴───────────────┴───────────────────┴─────────────┴────────┴───────┘\n",
       "</pre>\n"
      ],
      "text/plain": [
       "┏━━━━━━━━━┳━━━━━━━━━━━┳━━━━━━━━━━━━━━━━┳━━━━━━━━━━━━━━━┳━━━━━━━━━━━━━━━━━━━┳━━━━━━━━━━━━━┳━━━━━━━━┳━━━━━━━┓\n",
       "┃\u001b[1m \u001b[0m\u001b[1mspecies\u001b[0m\u001b[1m \u001b[0m┃\u001b[1m \u001b[0m\u001b[1misland\u001b[0m\u001b[1m   \u001b[0m\u001b[1m \u001b[0m┃\u001b[1m \u001b[0m\u001b[1mbill_length_mm\u001b[0m\u001b[1m \u001b[0m┃\u001b[1m \u001b[0m\u001b[1mbill_depth_mm\u001b[0m\u001b[1m \u001b[0m┃\u001b[1m \u001b[0m\u001b[1mflipper_length_mm\u001b[0m\u001b[1m \u001b[0m┃\u001b[1m \u001b[0m\u001b[1mbody_mass_g\u001b[0m\u001b[1m \u001b[0m┃\u001b[1m \u001b[0m\u001b[1msex\u001b[0m\u001b[1m   \u001b[0m\u001b[1m \u001b[0m┃\u001b[1m \u001b[0m\u001b[1myear\u001b[0m\u001b[1m \u001b[0m\u001b[1m \u001b[0m┃\n",
       "┡━━━━━━━━━╇━━━━━━━━━━━╇━━━━━━━━━━━━━━━━╇━━━━━━━━━━━━━━━╇━━━━━━━━━━━━━━━━━━━╇━━━━━━━━━━━━━╇━━━━━━━━╇━━━━━━━┩\n",
       "│ \u001b[2mstring\u001b[0m  │ \u001b[2mstring\u001b[0m    │ \u001b[2mfloat64\u001b[0m        │ \u001b[2mfloat64\u001b[0m       │ \u001b[2mint64\u001b[0m             │ \u001b[2mint64\u001b[0m       │ \u001b[2mstring\u001b[0m │ \u001b[2mint64\u001b[0m │\n",
       "├─────────┼───────────┼────────────────┼───────────────┼───────────────────┼─────────────┼────────┼───────┤\n",
       "│ \u001b[32mAdelie \u001b[0m │ \u001b[32mTorgersen\u001b[0m │           \u001b[1;36m39.1\u001b[0m │          \u001b[1;36m18.7\u001b[0m │               \u001b[1;36m181\u001b[0m │        \u001b[1;36m3750\u001b[0m │ \u001b[32mmale  \u001b[0m │  \u001b[1;36m2007\u001b[0m │\n",
       "│ \u001b[32mAdelie \u001b[0m │ \u001b[32mTorgersen\u001b[0m │           \u001b[1;36m39.5\u001b[0m │          \u001b[1;36m17.4\u001b[0m │               \u001b[1;36m186\u001b[0m │        \u001b[1;36m3800\u001b[0m │ \u001b[32mfemale\u001b[0m │  \u001b[1;36m2007\u001b[0m │\n",
       "│ \u001b[32mAdelie \u001b[0m │ \u001b[32mTorgersen\u001b[0m │           \u001b[1;36m40.3\u001b[0m │          \u001b[1;36m18.0\u001b[0m │               \u001b[1;36m195\u001b[0m │        \u001b[1;36m3250\u001b[0m │ \u001b[32mfemale\u001b[0m │  \u001b[1;36m2007\u001b[0m │\n",
       "│ \u001b[32mAdelie \u001b[0m │ \u001b[32mTorgersen\u001b[0m │           \u001b[2mNULL\u001b[0m │          \u001b[2mNULL\u001b[0m │              \u001b[2mNULL\u001b[0m │        \u001b[2mNULL\u001b[0m │ \u001b[2mNULL\u001b[0m   │  \u001b[1;36m2007\u001b[0m │\n",
       "│ \u001b[32mAdelie \u001b[0m │ \u001b[32mTorgersen\u001b[0m │           \u001b[1;36m36.7\u001b[0m │          \u001b[1;36m19.3\u001b[0m │               \u001b[1;36m193\u001b[0m │        \u001b[1;36m3450\u001b[0m │ \u001b[32mfemale\u001b[0m │  \u001b[1;36m2007\u001b[0m │\n",
       "│ \u001b[32mAdelie \u001b[0m │ \u001b[32mTorgersen\u001b[0m │           \u001b[1;36m39.3\u001b[0m │          \u001b[1;36m20.6\u001b[0m │               \u001b[1;36m190\u001b[0m │        \u001b[1;36m3650\u001b[0m │ \u001b[32mmale  \u001b[0m │  \u001b[1;36m2007\u001b[0m │\n",
       "│ \u001b[32mAdelie \u001b[0m │ \u001b[32mTorgersen\u001b[0m │           \u001b[1;36m38.9\u001b[0m │          \u001b[1;36m17.8\u001b[0m │               \u001b[1;36m181\u001b[0m │        \u001b[1;36m3625\u001b[0m │ \u001b[32mfemale\u001b[0m │  \u001b[1;36m2007\u001b[0m │\n",
       "│ \u001b[32mAdelie \u001b[0m │ \u001b[32mTorgersen\u001b[0m │           \u001b[1;36m39.2\u001b[0m │          \u001b[1;36m19.6\u001b[0m │               \u001b[1;36m195\u001b[0m │        \u001b[1;36m4675\u001b[0m │ \u001b[32mmale  \u001b[0m │  \u001b[1;36m2007\u001b[0m │\n",
       "│ \u001b[32mAdelie \u001b[0m │ \u001b[32mTorgersen\u001b[0m │           \u001b[1;36m34.1\u001b[0m │          \u001b[1;36m18.1\u001b[0m │               \u001b[1;36m193\u001b[0m │        \u001b[1;36m3475\u001b[0m │ \u001b[2mNULL\u001b[0m   │  \u001b[1;36m2007\u001b[0m │\n",
       "│ \u001b[32mAdelie \u001b[0m │ \u001b[32mTorgersen\u001b[0m │           \u001b[1;36m42.0\u001b[0m │          \u001b[1;36m20.2\u001b[0m │               \u001b[1;36m190\u001b[0m │        \u001b[1;36m4250\u001b[0m │ \u001b[2mNULL\u001b[0m   │  \u001b[1;36m2007\u001b[0m │\n",
       "│ \u001b[2m…\u001b[0m       │ \u001b[2m…\u001b[0m         │              \u001b[2m…\u001b[0m │             \u001b[2m…\u001b[0m │                 \u001b[2m…\u001b[0m │           \u001b[2m…\u001b[0m │ \u001b[2m…\u001b[0m      │     \u001b[2m…\u001b[0m │\n",
       "└─────────┴───────────┴────────────────┴───────────────┴───────────────────┴─────────────┴────────┴───────┘"
      ]
     },
     "execution_count": 7,
     "metadata": {},
     "output_type": "execute_result"
    }
   ],
   "source": [
    "t"
   ]
  },
  {
   "cell_type": "code",
   "execution_count": 6,
   "id": "af9b7a0d",
   "metadata": {},
   "outputs": [
    {
     "data": {
      "application/vnd.plotly.v1+json": {
       "config": {
        "plotlyServerURL": "https://plot.ly"
       },
       "data": [
        {
         "hovertemplate": "species=%{x}<br>count=%{y}<extra></extra>",
         "legendgroup": "",
         "marker": {
          "color": "#636efa",
          "pattern": {
           "shape": ""
          }
         },
         "name": "",
         "orientation": "v",
         "showlegend": false,
         "textposition": "auto",
         "type": "bar",
         "x": [
          "Chinstrap",
          "Gentoo",
          "Adelie"
         ],
         "xaxis": "x",
         "y": {
          "bdata": "RAB8AJgA",
          "dtype": "i2"
         },
         "yaxis": "y"
        }
       ],
       "layout": {
        "barmode": "relative",
        "height": 400,
        "legend": {
         "tracegroupgap": 0
        },
        "margin": {
         "t": 60
        },
        "template": {
         "data": {
          "bar": [
           {
            "error_x": {
             "color": "#2a3f5f"
            },
            "error_y": {
             "color": "#2a3f5f"
            },
            "marker": {
             "line": {
              "color": "#E5ECF6",
              "width": 0.5
             },
             "pattern": {
              "fillmode": "overlay",
              "size": 10,
              "solidity": 0.2
             }
            },
            "type": "bar"
           }
          ],
          "barpolar": [
           {
            "marker": {
             "line": {
              "color": "#E5ECF6",
              "width": 0.5
             },
             "pattern": {
              "fillmode": "overlay",
              "size": 10,
              "solidity": 0.2
             }
            },
            "type": "barpolar"
           }
          ],
          "carpet": [
           {
            "aaxis": {
             "endlinecolor": "#2a3f5f",
             "gridcolor": "white",
             "linecolor": "white",
             "minorgridcolor": "white",
             "startlinecolor": "#2a3f5f"
            },
            "baxis": {
             "endlinecolor": "#2a3f5f",
             "gridcolor": "white",
             "linecolor": "white",
             "minorgridcolor": "white",
             "startlinecolor": "#2a3f5f"
            },
            "type": "carpet"
           }
          ],
          "choropleth": [
           {
            "colorbar": {
             "outlinewidth": 0,
             "ticks": ""
            },
            "type": "choropleth"
           }
          ],
          "contour": [
           {
            "colorbar": {
             "outlinewidth": 0,
             "ticks": ""
            },
            "colorscale": [
             [
              0,
              "#0d0887"
             ],
             [
              0.1111111111111111,
              "#46039f"
             ],
             [
              0.2222222222222222,
              "#7201a8"
             ],
             [
              0.3333333333333333,
              "#9c179e"
             ],
             [
              0.4444444444444444,
              "#bd3786"
             ],
             [
              0.5555555555555556,
              "#d8576b"
             ],
             [
              0.6666666666666666,
              "#ed7953"
             ],
             [
              0.7777777777777778,
              "#fb9f3a"
             ],
             [
              0.8888888888888888,
              "#fdca26"
             ],
             [
              1,
              "#f0f921"
             ]
            ],
            "type": "contour"
           }
          ],
          "contourcarpet": [
           {
            "colorbar": {
             "outlinewidth": 0,
             "ticks": ""
            },
            "type": "contourcarpet"
           }
          ],
          "heatmap": [
           {
            "colorbar": {
             "outlinewidth": 0,
             "ticks": ""
            },
            "colorscale": [
             [
              0,
              "#0d0887"
             ],
             [
              0.1111111111111111,
              "#46039f"
             ],
             [
              0.2222222222222222,
              "#7201a8"
             ],
             [
              0.3333333333333333,
              "#9c179e"
             ],
             [
              0.4444444444444444,
              "#bd3786"
             ],
             [
              0.5555555555555556,
              "#d8576b"
             ],
             [
              0.6666666666666666,
              "#ed7953"
             ],
             [
              0.7777777777777778,
              "#fb9f3a"
             ],
             [
              0.8888888888888888,
              "#fdca26"
             ],
             [
              1,
              "#f0f921"
             ]
            ],
            "type": "heatmap"
           }
          ],
          "histogram": [
           {
            "marker": {
             "pattern": {
              "fillmode": "overlay",
              "size": 10,
              "solidity": 0.2
             }
            },
            "type": "histogram"
           }
          ],
          "histogram2d": [
           {
            "colorbar": {
             "outlinewidth": 0,
             "ticks": ""
            },
            "colorscale": [
             [
              0,
              "#0d0887"
             ],
             [
              0.1111111111111111,
              "#46039f"
             ],
             [
              0.2222222222222222,
              "#7201a8"
             ],
             [
              0.3333333333333333,
              "#9c179e"
             ],
             [
              0.4444444444444444,
              "#bd3786"
             ],
             [
              0.5555555555555556,
              "#d8576b"
             ],
             [
              0.6666666666666666,
              "#ed7953"
             ],
             [
              0.7777777777777778,
              "#fb9f3a"
             ],
             [
              0.8888888888888888,
              "#fdca26"
             ],
             [
              1,
              "#f0f921"
             ]
            ],
            "type": "histogram2d"
           }
          ],
          "histogram2dcontour": [
           {
            "colorbar": {
             "outlinewidth": 0,
             "ticks": ""
            },
            "colorscale": [
             [
              0,
              "#0d0887"
             ],
             [
              0.1111111111111111,
              "#46039f"
             ],
             [
              0.2222222222222222,
              "#7201a8"
             ],
             [
              0.3333333333333333,
              "#9c179e"
             ],
             [
              0.4444444444444444,
              "#bd3786"
             ],
             [
              0.5555555555555556,
              "#d8576b"
             ],
             [
              0.6666666666666666,
              "#ed7953"
             ],
             [
              0.7777777777777778,
              "#fb9f3a"
             ],
             [
              0.8888888888888888,
              "#fdca26"
             ],
             [
              1,
              "#f0f921"
             ]
            ],
            "type": "histogram2dcontour"
           }
          ],
          "mesh3d": [
           {
            "colorbar": {
             "outlinewidth": 0,
             "ticks": ""
            },
            "type": "mesh3d"
           }
          ],
          "parcoords": [
           {
            "line": {
             "colorbar": {
              "outlinewidth": 0,
              "ticks": ""
             }
            },
            "type": "parcoords"
           }
          ],
          "pie": [
           {
            "automargin": true,
            "type": "pie"
           }
          ],
          "scatter": [
           {
            "fillpattern": {
             "fillmode": "overlay",
             "size": 10,
             "solidity": 0.2
            },
            "type": "scatter"
           }
          ],
          "scatter3d": [
           {
            "line": {
             "colorbar": {
              "outlinewidth": 0,
              "ticks": ""
             }
            },
            "marker": {
             "colorbar": {
              "outlinewidth": 0,
              "ticks": ""
             }
            },
            "type": "scatter3d"
           }
          ],
          "scattercarpet": [
           {
            "marker": {
             "colorbar": {
              "outlinewidth": 0,
              "ticks": ""
             }
            },
            "type": "scattercarpet"
           }
          ],
          "scattergeo": [
           {
            "marker": {
             "colorbar": {
              "outlinewidth": 0,
              "ticks": ""
             }
            },
            "type": "scattergeo"
           }
          ],
          "scattergl": [
           {
            "marker": {
             "colorbar": {
              "outlinewidth": 0,
              "ticks": ""
             }
            },
            "type": "scattergl"
           }
          ],
          "scattermap": [
           {
            "marker": {
             "colorbar": {
              "outlinewidth": 0,
              "ticks": ""
             }
            },
            "type": "scattermap"
           }
          ],
          "scattermapbox": [
           {
            "marker": {
             "colorbar": {
              "outlinewidth": 0,
              "ticks": ""
             }
            },
            "type": "scattermapbox"
           }
          ],
          "scatterpolar": [
           {
            "marker": {
             "colorbar": {
              "outlinewidth": 0,
              "ticks": ""
             }
            },
            "type": "scatterpolar"
           }
          ],
          "scatterpolargl": [
           {
            "marker": {
             "colorbar": {
              "outlinewidth": 0,
              "ticks": ""
             }
            },
            "type": "scatterpolargl"
           }
          ],
          "scatterternary": [
           {
            "marker": {
             "colorbar": {
              "outlinewidth": 0,
              "ticks": ""
             }
            },
            "type": "scatterternary"
           }
          ],
          "surface": [
           {
            "colorbar": {
             "outlinewidth": 0,
             "ticks": ""
            },
            "colorscale": [
             [
              0,
              "#0d0887"
             ],
             [
              0.1111111111111111,
              "#46039f"
             ],
             [
              0.2222222222222222,
              "#7201a8"
             ],
             [
              0.3333333333333333,
              "#9c179e"
             ],
             [
              0.4444444444444444,
              "#bd3786"
             ],
             [
              0.5555555555555556,
              "#d8576b"
             ],
             [
              0.6666666666666666,
              "#ed7953"
             ],
             [
              0.7777777777777778,
              "#fb9f3a"
             ],
             [
              0.8888888888888888,
              "#fdca26"
             ],
             [
              1,
              "#f0f921"
             ]
            ],
            "type": "surface"
           }
          ],
          "table": [
           {
            "cells": {
             "fill": {
              "color": "#EBF0F8"
             },
             "line": {
              "color": "white"
             }
            },
            "header": {
             "fill": {
              "color": "#C8D4E3"
             },
             "line": {
              "color": "white"
             }
            },
            "type": "table"
           }
          ]
         },
         "layout": {
          "annotationdefaults": {
           "arrowcolor": "#2a3f5f",
           "arrowhead": 0,
           "arrowwidth": 1
          },
          "autotypenumbers": "strict",
          "coloraxis": {
           "colorbar": {
            "outlinewidth": 0,
            "ticks": ""
           }
          },
          "colorscale": {
           "diverging": [
            [
             0,
             "#8e0152"
            ],
            [
             0.1,
             "#c51b7d"
            ],
            [
             0.2,
             "#de77ae"
            ],
            [
             0.3,
             "#f1b6da"
            ],
            [
             0.4,
             "#fde0ef"
            ],
            [
             0.5,
             "#f7f7f7"
            ],
            [
             0.6,
             "#e6f5d0"
            ],
            [
             0.7,
             "#b8e186"
            ],
            [
             0.8,
             "#7fbc41"
            ],
            [
             0.9,
             "#4d9221"
            ],
            [
             1,
             "#276419"
            ]
           ],
           "sequential": [
            [
             0,
             "#0d0887"
            ],
            [
             0.1111111111111111,
             "#46039f"
            ],
            [
             0.2222222222222222,
             "#7201a8"
            ],
            [
             0.3333333333333333,
             "#9c179e"
            ],
            [
             0.4444444444444444,
             "#bd3786"
            ],
            [
             0.5555555555555556,
             "#d8576b"
            ],
            [
             0.6666666666666666,
             "#ed7953"
            ],
            [
             0.7777777777777778,
             "#fb9f3a"
            ],
            [
             0.8888888888888888,
             "#fdca26"
            ],
            [
             1,
             "#f0f921"
            ]
           ],
           "sequentialminus": [
            [
             0,
             "#0d0887"
            ],
            [
             0.1111111111111111,
             "#46039f"
            ],
            [
             0.2222222222222222,
             "#7201a8"
            ],
            [
             0.3333333333333333,
             "#9c179e"
            ],
            [
             0.4444444444444444,
             "#bd3786"
            ],
            [
             0.5555555555555556,
             "#d8576b"
            ],
            [
             0.6666666666666666,
             "#ed7953"
            ],
            [
             0.7777777777777778,
             "#fb9f3a"
            ],
            [
             0.8888888888888888,
             "#fdca26"
            ],
            [
             1,
             "#f0f921"
            ]
           ]
          },
          "colorway": [
           "#636efa",
           "#EF553B",
           "#00cc96",
           "#ab63fa",
           "#FFA15A",
           "#19d3f3",
           "#FF6692",
           "#B6E880",
           "#FF97FF",
           "#FECB52"
          ],
          "font": {
           "color": "#2a3f5f"
          },
          "geo": {
           "bgcolor": "white",
           "lakecolor": "white",
           "landcolor": "#E5ECF6",
           "showlakes": true,
           "showland": true,
           "subunitcolor": "white"
          },
          "hoverlabel": {
           "align": "left"
          },
          "hovermode": "closest",
          "mapbox": {
           "style": "light"
          },
          "paper_bgcolor": "white",
          "plot_bgcolor": "#E5ECF6",
          "polar": {
           "angularaxis": {
            "gridcolor": "white",
            "linecolor": "white",
            "ticks": ""
           },
           "bgcolor": "#E5ECF6",
           "radialaxis": {
            "gridcolor": "white",
            "linecolor": "white",
            "ticks": ""
           }
          },
          "scene": {
           "xaxis": {
            "backgroundcolor": "#E5ECF6",
            "gridcolor": "white",
            "gridwidth": 2,
            "linecolor": "white",
            "showbackground": true,
            "ticks": "",
            "zerolinecolor": "white"
           },
           "yaxis": {
            "backgroundcolor": "#E5ECF6",
            "gridcolor": "white",
            "gridwidth": 2,
            "linecolor": "white",
            "showbackground": true,
            "ticks": "",
            "zerolinecolor": "white"
           },
           "zaxis": {
            "backgroundcolor": "#E5ECF6",
            "gridcolor": "white",
            "gridwidth": 2,
            "linecolor": "white",
            "showbackground": true,
            "ticks": "",
            "zerolinecolor": "white"
           }
          },
          "shapedefaults": {
           "line": {
            "color": "#2a3f5f"
           }
          },
          "ternary": {
           "aaxis": {
            "gridcolor": "white",
            "linecolor": "white",
            "ticks": ""
           },
           "baxis": {
            "gridcolor": "white",
            "linecolor": "white",
            "ticks": ""
           },
           "bgcolor": "#E5ECF6",
           "caxis": {
            "gridcolor": "white",
            "linecolor": "white",
            "ticks": ""
           }
          },
          "title": {
           "x": 0.05
          },
          "xaxis": {
           "automargin": true,
           "gridcolor": "white",
           "linecolor": "white",
           "ticks": "",
           "title": {
            "standoff": 15
           },
           "zerolinecolor": "white",
           "zerolinewidth": 2
          },
          "yaxis": {
           "automargin": true,
           "gridcolor": "white",
           "linecolor": "white",
           "ticks": "",
           "title": {
            "standoff": 15
           },
           "zerolinecolor": "white",
           "zerolinewidth": 2
          }
         }
        },
        "width": 600,
        "xaxis": {
         "anchor": "y",
         "domain": [
          0,
          1
         ],
         "title": {
          "text": "species"
         }
        },
        "yaxis": {
         "anchor": "x",
         "domain": [
          0,
          1
         ],
         "title": {
          "text": "count"
         }
        }
       }
      }
     },
     "metadata": {},
     "output_type": "display_data"
    }
   ],
   "source": [
    "import plotly.express as px\n",
    "\n",
    "chart = px.bar(\n",
    "    t.group_by(\"species\").agg(count=ibis._.count()).to_pandas(),\n",
    "    x=\"species\",\n",
    "    y=\"count\",\n",
    "    width=600,\n",
    "    height=400,\n",
    ")\n",
    "chart"
   ]
  }
 ],
 "metadata": {
  "kernelspec": {
   "display_name": ".venv",
   "language": "python",
   "name": "python3"
  },
  "language_info": {
   "codemirror_mode": {
    "name": "ipython",
    "version": 3
   },
   "file_extension": ".py",
   "mimetype": "text/x-python",
   "name": "python",
   "nbconvert_exporter": "python",
   "pygments_lexer": "ipython3",
   "version": "3.13.0"
  }
 },
 "nbformat": 4,
 "nbformat_minor": 5
}
